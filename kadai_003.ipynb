{
  "nbformat": 4,
  "nbformat_minor": 0,
  "metadata": {
    "colab": {
      "provenance": [],
      "toc_visible": true,
      "authorship_tag": "ABX9TyNyYIjddcVYQEeABzkv8g5M",
      "include_colab_link": true
    },
    "kernelspec": {
      "name": "python3",
      "display_name": "Python 3"
    },
    "language_info": {
      "name": "python"
    }
  },
  "cells": [
    {
      "cell_type": "markdown",
      "metadata": {
        "id": "view-in-github",
        "colab_type": "text"
      },
      "source": [
        "<a href=\"https://colab.research.google.com/github/justgoforit1973/data-analysis-basic-kadai/blob/main/kadai_003.ipynb\" target=\"_parent\"><img src=\"https://colab.research.google.com/assets/colab-badge.svg\" alt=\"Open In Colab\"/></a>"
      ]
    },
    {
      "cell_type": "code",
      "execution_count": 12,
      "metadata": {
        "colab": {
          "base_uri": "https://localhost:8080/"
        },
        "id": "TkQ3wgexj1cc",
        "outputId": "f57049ec-4142-4156-d4b7-591d6722cc0b"
      },
      "outputs": [
        {
          "output_type": "stream",
          "name": "stdout",
          "text": [
            "[[67 66]\n",
            " [30 98]\n",
            " [49 38]\n",
            " [60 31]]\n",
            "[[1 2 3 4]\n",
            " [4 5 6 4]]\n",
            "[[331 464 597 532]\n",
            " [422 550 678 512]\n",
            " [201 288 375 348]\n",
            " [184 275 366 364]]\n",
            "678\n"
          ]
        }
      ],
      "source": [
        "import numpy as np\n",
        "\n",
        "array_a = np.random.randint(1,99,(4,2))\n",
        "print(array_a)\n",
        "\n",
        "array_b = np.array([[1,2,3,4],[4,5,6,4]])\n",
        "print(array_b)\n",
        "\n",
        "multiple_array = np.dot(array_a, array_b)\n",
        "print(multiple_array)\n",
        "\n",
        "print(multiple_array.max())\n",
        "\n",
        "\n",
        "\n",
        "\n",
        "\n"
      ]
    }
  ]
}